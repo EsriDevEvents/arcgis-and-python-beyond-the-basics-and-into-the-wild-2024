{
 "cells": [
  {
   "cell_type": "code",
   "execution_count": null,
   "metadata": {},
   "outputs": [],
   "source": [
    "from arcgis.gis import GIS\n",
    "import requests\n",
    "import time\n",
    "\n",
    "import _global_settings"
   ]
  },
  {
   "cell_type": "code",
   "execution_count": null,
   "metadata": {},
   "outputs": [],
   "source": [
    "gis = GIS(profile=\"my_ago_profile\")"
   ]
  },
  {
   "cell_type": "code",
   "execution_count": null,
   "metadata": {},
   "outputs": [],
   "source": [
    "def log_all_requests(response: requests.Response, *args, **kwargs):\n",
    "    \"\"\"\n",
    "    Logs all HTTP responses.\n",
    "\n",
    "    Args:\n",
    "        response (requests.Response): The HTTP response to handle.\n",
    "\n",
    "\n",
    "    Returns:\n",
    "        requests.Response: The original HTTP response.\n",
    "\n",
    "    Raises:\n",
    "        None\n",
    "    \"\"\"\n",
    "\n",
    "    print(f\"Networking: {response.status_code} response for {response.url}.\")\n",
    "    return response"
   ]
  },
  {
   "cell_type": "code",
   "execution_count": null,
   "metadata": {},
   "outputs": [],
   "source": [
    "gis._con._session._session.hooks[\"response\"].append(log_all_requests)"
   ]
  },
  {
   "cell_type": "code",
   "execution_count": null,
   "metadata": {},
   "outputs": [],
   "source": [
    "gis.content.advanced_search(\n",
    "    query=\"owner:my_username\",\n",
    ")"
   ]
  },
  {
   "cell_type": "code",
   "execution_count": null,
   "metadata": {},
   "outputs": [],
   "source": [
    "gis._con._session._session.hooks[\"response\"] = []"
   ]
  },
  {
   "cell_type": "code",
   "execution_count": null,
   "metadata": {},
   "outputs": [],
   "source": [
    "def log_all_requests_detailed(response: requests.Response, *args, **kwargs):\n",
    "    \"\"\"\n",
    "    Handles errors in HTTP responses.\n",
    "\n",
    "    Args:\n",
    "        response (requests.Response): The HTTP response to handle.\n",
    "\n",
    "    Returns:\n",
    "        requests.Response: The original HTTP response.\n",
    "\n",
    "    Raises:\n",
    "        None\n",
    "    \"\"\"\n",
    "    print(\n",
    "        f\"Networking: {response.status_code} response for {response.url}\\n\"\n",
    "        f\"Request details:\\n\"\n",
    "        f\"Method: {response.request.method}\\n\"\n",
    "        f\"URL: {response.request.url}\\n\"\n",
    "        f\"Body: {response.request.body}\\n\"\n",
    "        f\"Headers: {response.request.headers}\\n\"\n",
    "        f\"Response: {response.status_code} {response.reason}\\n\"\n",
    "        f\"Response Text: {response.text}\\n\"\n",
    "    )\n",
    "    return response"
   ]
  },
  {
   "cell_type": "code",
   "execution_count": null,
   "metadata": {},
   "outputs": [],
   "source": [
    "gis._con._session._session.hooks[\"response\"].append(log_all_requests_detailed)"
   ]
  },
  {
   "cell_type": "code",
   "execution_count": null,
   "metadata": {},
   "outputs": [],
   "source": [
    "gis.content.advanced_search(\n",
    "    query=\"owner:dyaw_Arch\",\n",
    ")"
   ]
  },
  {
   "cell_type": "code",
   "execution_count": null,
   "metadata": {},
   "outputs": [],
   "source": [
    "gis._con._session._session.hooks[\"response\"] = []"
   ]
  },
  {
   "cell_type": "code",
   "execution_count": null,
   "metadata": {},
   "outputs": [],
   "source": [
    "def throttle_rate(\n",
    "    threshold: int = 1500,\n",
    "    peroid: int = 300,\n",
    "    pause: int = 300,\n",
    "    log_all_requests=False,\n",
    "    log_rate=False,\n",
    "):\n",
    "    \"\"\"\n",
    "    Check if the number of requests made in the given period exceeds the threshold.\n",
    "    If it does, pause the program for the specified amount of time.\n",
    "\n",
    "    Args:\n",
    "        threshold (int, optional): The maximum number of requests allowed in the given period. Defaults to 1500.\n",
    "        peroid (int, optional): The time period in seconds. Defaults to 300.\n",
    "        pause (int, optional): The amount of time to pause the program if the threshold is exceeded. Defaults to 300.\n",
    "        log_all_requests (bool, optional): Whether to log information about all requests. Defaults to False.\n",
    "        log_rate (bool, optional): Whether to log the request rate. Defaults to False.\n",
    "\n",
    "    Returns:\n",
    "        function: Callable that's used as a response hook.\n",
    "    \"\"\"\n",
    "\n",
    "    def throttle(response: requests.Response, *args, **kwargs):\n",
    "\n",
    "        if _global_settings.request_peroid_start is None:\n",
    "            _global_settings.request_peroid_start = time.time()\n",
    "\n",
    "        _global_settings.request_count += 1\n",
    "\n",
    "        if _global_settings.request_count_start is None:\n",
    "            _global_settings.request_count_start = time.time()\n",
    "\n",
    "        time_elasped = time.time() - _global_settings.request_count_start\n",
    "\n",
    "        if time_elasped > peroid:\n",
    "            _global_settings.request_count_start = time.time()\n",
    "            _global_settings.request_count = 0\n",
    "\n",
    "        if _global_settings.request_count > threshold:\n",
    "            print(\n",
    "                f\"Networking: Request count exceeded threshold of {threshold} requests per {peroid} seconds in {time_elasped} seconds, pausing for {pause} seconds.\"\n",
    "            )\n",
    "            time.sleep(pause)\n",
    "            _global_settings.request_count_start = time.time()\n",
    "            _global_settings.request_count = 0\n",
    "\n",
    "        if _global_settings.request_count > 0 and time_elasped > 0:\n",
    "            rate = _global_settings.request_count / time_elasped\n",
    "\n",
    "        else:\n",
    "            rate = 0\n",
    "\n",
    "        if log_all_requests:\n",
    "            print(\n",
    "                f\"Netwoking: Request stats: {_global_settings.request_count} request in past {time_elasped} seconds, a rate of {rate} requests/second. Threshold is {threshold} requests/second and period is {peroid} seconds.\"\n",
    "            )\n",
    "        if log_rate:\n",
    "            print(\n",
    "                f\"Networking: Request rate: {_global_settings.request_count} requests in {peroid} second peroid, rate of {rate} requests/second.\"\n",
    "            )\n",
    "\n",
    "        return response\n",
    "\n",
    "    return throttle"
   ]
  },
  {
   "cell_type": "code",
   "execution_count": null,
   "metadata": {},
   "outputs": [],
   "source": [
    "gis._con._session._session.hooks[\"response\"].append(throttle_rate(threshold = 5, peroid = 10, pause = 10, log_all_requests = True, log_rate = True))"
   ]
  },
  {
   "cell_type": "code",
   "execution_count": null,
   "metadata": {},
   "outputs": [],
   "source": [
    "for i in range(10):\n",
    "    gis.content.advanced_search(\n",
    "        query=\"owner:my_username\",\n",
    "    )"
   ]
  },
  {
   "cell_type": "code",
   "execution_count": null,
   "metadata": {},
   "outputs": [],
   "source": [
    "def response_error_handling(response: requests.Response, *args, **kwargs):\n",
    "    \"\"\"\n",
    "    Handles errors in HTTP responses.\n",
    "\n",
    "    Args:\n",
    "        response (requests.Response): The HTTP response to handle.\n",
    "\n",
    "    Returns:\n",
    "        requests.Response: The original HTTP response.\n",
    "\n",
    "    Raises:\n",
    "        None\n",
    "    \"\"\"\n",
    "    # List of exemptions for certain errors that we don't want to log, each must have a status code and url substring\n",
    "    exemptions = [\n",
    "        {\n",
    "            # Until we find a better way to check for metadata existance, we'll just ignore this error\n",
    "            \"status_code\": 403,\n",
    "            \"url_substring\": \"info/metadata/metadata.xml\",\n",
    "        },\n",
    "        {\n",
    "            # Until we find a better way to check for metadata existance, we'll just ignore this error\n",
    "            \"status_code\": 400,\n",
    "            \"url_substring\": \"info/metadata/metadata.xml\",\n",
    "        },\n",
    "    ]\n",
    "    if response.status_code != 200 and response.status_code != 302:\n",
    "        if any(\n",
    "            [\n",
    "                exemption[\"status_code\"] == response.status_code\n",
    "                and exemption[\"url_substring\"] in response.url\n",
    "                for exemption in exemptions\n",
    "            ]\n",
    "        ):\n",
    "            # Ignore these scenarios\n",
    "            return response\n",
    "        print(\n",
    "            f\"Networking: {response.status_code} response for {response.url}\\n\"\n",
    "            f\"Request details:\\n\"\n",
    "            f\"Method: {response.request.method}\\n\"\n",
    "            f\"URL: {response.request.url}\\n\"\n",
    "            f\"Body: {response.request.body}\\n\"\n",
    "            f\"Headers: {response.request.headers}\\n\"\n",
    "            f\"Response: {response.status_code} {response.reason}\\n\"\n",
    "            f\"Response Text: {response.text}\\n\"\n",
    "        )\n",
    "        if response.status_code == 403 and response.reason == \"FORBIDDEN\":\n",
    "            print(\n",
    "                \"Networking: A 403 FORBIDDEN response indicates the requests may be getting blocked. Check any firewalls that may be blocking this.\"\n",
    "            )\n",
    "    return response"
   ]
  },
  {
   "cell_type": "code",
   "execution_count": null,
   "metadata": {},
   "outputs": [],
   "source": [
    "gis._con._session._session.hooks[\"response\"].clear()"
   ]
  }
 ],
 "metadata": {
  "kernelspec": {
   "display_name": "Python 3",
   "language": "python",
   "name": "python3"
  },
  "language_info": {
   "codemirror_mode": {
    "name": "ipython",
    "version": 3
   },
   "file_extension": ".py",
   "mimetype": "text/x-python",
   "name": "python",
   "nbconvert_exporter": "python",
   "pygments_lexer": "ipython3",
   "version": "3.9.18"
  }
 },
 "nbformat": 4,
 "nbformat_minor": 2
}
